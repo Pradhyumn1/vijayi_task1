{
 "cells": [
  {
   "cell_type": "markdown",
   "id": "69b2592b",
   "metadata": {},
   "source": [
    "NLTK"
   ]
  },
  {
   "cell_type": "code",
   "execution_count": 29,
   "id": "e42ae411",
   "metadata": {},
   "outputs": [
    {
     "name": "stderr",
     "output_type": "stream",
     "text": [
      "[nltk_data] Downloading package punkt to\n",
      "[nltk_data]     /Users/pradhyumnyadav/nltk_data...\n",
      "[nltk_data]   Package punkt is already up-to-date!\n",
      "[nltk_data] Downloading package punkt_tab to\n",
      "[nltk_data]     /Users/pradhyumnyadav/nltk_data...\n",
      "[nltk_data]   Package punkt_tab is already up-to-date!\n",
      "[nltk_data] Downloading package stopwords to\n",
      "[nltk_data]     /Users/pradhyumnyadav/nltk_data...\n",
      "[nltk_data]   Package stopwords is already up-to-date!\n",
      "[nltk_data] Downloading package wordnet to\n",
      "[nltk_data]     /Users/pradhyumnyadav/nltk_data...\n",
      "[nltk_data]   Package wordnet is already up-to-date!\n"
     ]
    },
    {
     "data": {
      "text/plain": [
       "True"
      ]
     },
     "execution_count": 29,
     "metadata": {},
     "output_type": "execute_result"
    }
   ],
   "source": [
    "import pandas as pd\n",
    "import numpy as np\n",
    "import re\n",
    "import nltk\n",
    "from nltk.corpus import stopwords\n",
    "from nltk.stem import WordNetLemmatizer\n",
    "from nltk.tokenize import word_tokenize\n",
    "import string\n",
    "\n",
    "# Download all necessary NLTK data \n",
    "\n",
    "nltk.download('punkt')\n",
    "nltk.download('punkt_tab') \n",
    "nltk.download('stopwords')\n",
    "nltk.download('wordnet')"
   ]
  },
  {
   "cell_type": "code",
   "execution_count": 30,
   "id": "cacb41f7",
   "metadata": {},
   "outputs": [],
   "source": [
    "# Load the dataset\n",
    "df = pd.read_excel('ai_dev_assignment_tickets_complex_1000.xls')"
   ]
  },
  {
   "cell_type": "code",
   "execution_count": 31,
   "id": "9dd2a538",
   "metadata": {},
   "outputs": [],
   "source": [
    "# Initialize lemmatizer and stopwords\n",
    "lemmatizer = WordNetLemmatizer()\n",
    "stop_words = set(stopwords.words('english'))"
   ]
  },
  {
   "cell_type": "code",
   "execution_count": 32,
   "id": "9607b2e7",
   "metadata": {},
   "outputs": [],
   "source": [
    "def preprocess_text(text):\n",
    "    \"\"\"\n",
    "    Cleans and preprocesses a given text.\n",
    "    \"\"\"\n",
    "    if not isinstance(text, str):\n",
    "        return \"\"\n",
    "    # Lowercase\n",
    "    text = text.lower()\n",
    "    # Remove special characters and digits using regex\n",
    "    text = re.sub(r'[\\d\\W_]+', ' ', text)\n",
    "    # Tokenize\n",
    "    tokens = word_tokenize(text)\n",
    "    # Remove stopwords and lemmatize\n",
    "    processed_tokens = [lemmatizer.lemmatize(w) for w in tokens if w not in stop_words and len(w) > 1]\n",
    "    return \" \".join(processed_tokens)"
   ]
  },
  {
   "cell_type": "code",
   "execution_count": 33,
   "id": "c08b0acb",
   "metadata": {},
   "outputs": [
    {
     "name": "stdout",
     "output_type": "stream",
     "text": [
      "Data after preprocessing:\n",
      "                                         ticket_text  \\\n",
      "0  Payment issue for my SmartWatch V2. I was unde...   \n",
      "2  I ordered SoundWave 300 but got EcoBreeze AC i...   \n",
      "3  Facing installation issue with PhotoSnap Cam. ...   \n",
      "5  Can you tell me more about the PhotoSnap Cam w...   \n",
      "6   is malfunction. It stopped working after just...   \n",
      "\n",
      "                                        cleaned_text          issue_type  \\\n",
      "0         payment issue smartwatch underbilled order     Billing Problem   \n",
      "2  ordered soundwave got ecobreeze ac instead ord...          Wrong Item   \n",
      "3  facing installation issue photosnap cam setup ...  Installation Issue   \n",
      "5     tell photosnap cam warranty also available red     General Inquiry   \n",
      "6                    malfunction stopped working day      Product Defect   \n",
      "\n",
      "  urgency_level  \n",
      "0        Medium  \n",
      "2        Medium  \n",
      "3           Low  \n",
      "5        Medium  \n",
      "6           Low  \n"
     ]
    }
   ],
   "source": [
    "# Apply preprocessing to the 'ticket_text' column\n",
    "if not df.empty:\n",
    "    df['cleaned_text'] = df['ticket_text'].apply(preprocess_text)\n",
    "    \n",
    "    # Handle missing data\n",
    "    df.dropna(subset=['issue_type', 'urgency_level'], inplace=True)\n",
    "    \n",
    "    print(\"Data after preprocessing:\")\n",
    "    print(df[['ticket_text', 'cleaned_text', 'issue_type', 'urgency_level']].head())\n",
    "else:\n",
    "    print(\"DataFrame is empty. Please check the input file.\")"
   ]
  },
  {
   "cell_type": "markdown",
   "id": "77d944cf",
   "metadata": {},
   "source": [
    "Feature engineering"
   ]
  },
  {
   "cell_type": "code",
   "execution_count": 34,
   "id": "3226f51a",
   "metadata": {},
   "outputs": [
    {
     "name": "stdout",
     "output_type": "stream",
     "text": [
      "Shape of combined features: (876, 106)\n"
     ]
    }
   ],
   "source": [
    "from sklearn.feature_extraction.text import TfidfVectorizer\n",
    "from textblob import TextBlob\n",
    "\n",
    "# --- TF-IDF Vectorization ---\n",
    "tfidf_vectorizer = TfidfVectorizer(max_features=1000)\n",
    "X_tfidf = tfidf_vectorizer.fit_transform(df['cleaned_text']).toarray()\n",
    "\n",
    "\n",
    "\n",
    "# Ticket length\n",
    "df['ticket_length'] = df['cleaned_text'].apply(len)\n",
    "\n",
    "# Sentiment score\n",
    "df['sentiment'] = df['cleaned_text'].apply(lambda text: TextBlob(text).sentiment.polarity)\n",
    "\n",
    "# --- Combine Features ---\n",
    "additional_features = df[['ticket_length', 'sentiment']].values\n",
    "X_combined = np.hstack((X_tfidf, additional_features))\n",
    "\n",
    "print(\"Shape of combined features:\", X_combined.shape)"
   ]
  },
  {
   "cell_type": "markdown",
   "id": "ae3d39fe",
   "metadata": {},
   "source": [
    "Multi-Task Learning: Classifiers"
   ]
  },
  {
   "cell_type": "code",
   "execution_count": 35,
   "id": "223b1719",
   "metadata": {},
   "outputs": [
    {
     "name": "stdout",
     "output_type": "stream",
     "text": [
      "--- Issue Type Classifier Evaluation ---\n",
      "Accuracy: 0.9431818181818182\n",
      "                    precision    recall  f1-score   support\n",
      "\n",
      "    Account Access       1.00      0.97      0.99        35\n",
      "   Billing Problem       1.00      0.91      0.95        32\n",
      "   General Inquiry       0.74      1.00      0.85        29\n",
      "Installation Issue       1.00      0.92      0.96        24\n",
      "     Late Delivery       1.00      0.90      0.95        20\n",
      "    Product Defect       1.00      0.95      0.97        19\n",
      "        Wrong Item       1.00      0.94      0.97        17\n",
      "\n",
      "          accuracy                           0.94       176\n",
      "         macro avg       0.96      0.94      0.95       176\n",
      "      weighted avg       0.96      0.94      0.95       176\n",
      "\n",
      "\n",
      "--- Urgency Level Classifier Evaluation ---\n",
      "Accuracy: 0.3125\n",
      "              precision    recall  f1-score   support\n",
      "\n",
      "        High       0.33      0.33      0.33        60\n",
      "         Low       0.25      0.26      0.25        54\n",
      "      Medium       0.35      0.34      0.34        62\n",
      "\n",
      "    accuracy                           0.31       176\n",
      "   macro avg       0.31      0.31      0.31       176\n",
      "weighted avg       0.31      0.31      0.31       176\n",
      "\n"
     ]
    },
    {
     "data": {
      "image/png": "[encoded data removed]",
      "text/plain": [
       "<Figure size 1000x700 with 2 Axes>"
      ]
     },
     "metadata": {},
     "output_type": "display_data"
    },
    {
     "data": {
      "image/png": "[encoded data removed]",
      "text/plain": [
       "<Figure size 800x600 with 2 Axes>"
      ]
     },
     "metadata": {},
     "output_type": "display_data"
    }
   ],
   "source": [
    "from sklearn.model_selection import train_test_split\n",
    "from sklearn.linear_model import LogisticRegression\n",
    "from sklearn.svm import SVC\n",
    "from sklearn.ensemble import RandomForestClassifier\n",
    "from sklearn.metrics import classification_report, confusion_matrix, accuracy_score\n",
    "import seaborn as sns\n",
    "import matplotlib.pyplot as plt\n",
    "\n",
    "# --- Prepare Labels ---\n",
    "y_issue = df['issue_type']\n",
    "y_urgency = df['urgency_level']\n",
    "\n",
    "# --- Split Data ---\n",
    "X_train_issue, X_test_issue, y_train_issue, y_test_issue = train_test_split(X_combined, y_issue, test_size=0.2, random_state=42)\n",
    "X_train_urgency, X_test_urgency, y_train_urgency, y_test_urgency = train_test_split(X_combined, y_urgency, test_size=0.2, random_state=42)\n",
    "\n",
    "# --- Issue Type Classifier ---\n",
    "issue_classifier = RandomForestClassifier(random_state=42)\n",
    "issue_classifier.fit(X_train_issue, y_train_issue)\n",
    "y_pred_issue = issue_classifier.predict(X_test_issue)\n",
    "\n",
    "print(\"--- Issue Type Classifier Evaluation ---\")\n",
    "print(\"Accuracy:\", accuracy_score(y_test_issue, y_pred_issue))\n",
    "print(classification_report(y_test_issue, y_pred_issue))\n",
    "\n",
    "# --- Urgency Level Classifier ---\n",
    "urgency_classifier = RandomForestClassifier(random_state=42)\n",
    "urgency_classifier.fit(X_train_urgency, y_train_urgency)\n",
    "y_pred_urgency = urgency_classifier.predict(X_test_urgency)\n",
    "\n",
    "print(\"\\n--- Urgency Level Classifier Evaluation ---\")\n",
    "print(\"Accuracy:\", accuracy_score(y_test_urgency, y_pred_urgency))\n",
    "print(classification_report(y_test_urgency, y_pred_urgency))\n",
    "\n",
    "# --- Visualization (Bonus) ---\n",
    "\n",
    "# Confusion Matrix for Issue Type\n",
    "cm_issue = confusion_matrix(y_test_issue, y_pred_issue)\n",
    "plt.figure(figsize=(10, 7))\n",
    "sns.heatmap(cm_issue, annot=True, fmt='d', xticklabels=issue_classifier.classes_, yticklabels=issue_classifier.classes_)\n",
    "plt.title('Confusion Matrix for Issue Type')\n",
    "plt.xlabel('Predicted')\n",
    "plt.ylabel('True')\n",
    "plt.show()\n",
    "\n",
    "# Confusion Matrix for Urgency Level\n",
    "cm_urgency = confusion_matrix(y_test_urgency, y_pred_urgency)\n",
    "plt.figure(figsize=(8, 6))\n",
    "sns.heatmap(cm_urgency, annot=True, fmt='d', xticklabels=urgency_classifier.classes_, yticklabels=urgency_classifier.classes_)\n",
    "plt.title('Confusion Matrix for Urgency Level')\n",
    "plt.xlabel('Predicted')\n",
    "plt.ylabel('True')\n",
    "plt.show()"
   ]
  },
  {
   "cell_type": "markdown",
   "id": "db5ff3ae",
   "metadata": {},
   "source": [
    "Entity Extraction"
   ]
  },
  {
   "cell_type": "code",
   "execution_count": 36,
   "id": "c5157d6a",
   "metadata": {},
   "outputs": [
    {
     "name": "stdout",
     "output_type": "stream",
     "text": [
      "{'products': ['alpha'], 'dates': ['12/03/2024'], 'complaint_keywords': ['error', 'late']}\n"
     ]
    }
   ],
   "source": [
    "def extract_entities(text):\n",
    "    \"\"\"\n",
    "    Extracts entities (product names, dates, complaint keywords) from text.\n",
    "    \"\"\"\n",
    "    # Product names (you can expand this list based on the dataset)\n",
    "    products = ['alpha', 'beta', 'gamma', 'delta', 'epsilon']\n",
    "    found_products = [p for p in products if re.search(r'\\b' + p + r'\\b', text, re.IGNORECASE)]\n",
    "\n",
    "    # Dates (extracts in various formats)\n",
    "    dates = re.findall(r'\\d{1,2}[/-]\\d{1,2}[/-]\\d{2,4}|\\b\\d{1,2} \\w+ \\d{4}\\b', text)\n",
    "\n",
    "    # Complaint keywords\n",
    "    complaint_keywords = ['broken', 'late', 'error', 'fail', 'not working', 'issue', 'problem']\n",
    "    found_keywords = [kw for kw in complaint_keywords if re.search(r'\\b' + kw + r'\\b', text, re.IGNORECASE)]\n",
    "\n",
    "    return {\n",
    "        \"products\": list(set(found_products)),\n",
    "        \"dates\": dates,\n",
    "        \"complaint_keywords\": list(set(found_keywords))\n",
    "    }\n",
    "\n",
    "# Example\n",
    "example_text = \"My alpha product has an error and failed on 12/03/2024. The delivery was also late.\"\n",
    "print(extract_entities(example_text))"
   ]
  },
  {
   "cell_type": "markdown",
   "id": "4c2dc158",
   "metadata": {},
   "source": [
    " Integration"
   ]
  },
  {
   "cell_type": "code",
   "execution_count": 37,
   "id": "5ace52bc",
   "metadata": {},
   "outputs": [
    {
     "name": "stdout",
     "output_type": "stream",
     "text": [
      "{'predicted_issue_type': 'Product Defect', 'predicted_urgency_level': 'High', 'extracted_entities': {'products': ['beta'], 'dates': ['15 May 2024'], 'complaint_keywords': ['not working', 'issue']}}\n"
     ]
    }
   ],
   "source": [
    "def process_ticket(ticket_text):\n",
    "    \"\"\"\n",
    "    Takes raw ticket text and returns predictions and extracted entities.\n",
    "    \"\"\"\n",
    "    # 1. Preprocess the text\n",
    "    cleaned_text = preprocess_text(ticket_text)\n",
    "\n",
    "    # 2. Feature Engineering\n",
    "    tfidf_features = tfidf_vectorizer.transform([cleaned_text]).toarray()\n",
    "    ticket_length = len(cleaned_text)\n",
    "    sentiment = TextBlob(cleaned_text).sentiment.polarity\n",
    "    combined_features = np.hstack((tfidf_features, [[ticket_length, sentiment]]))\n",
    "\n",
    "    # 3. Predictions\n",
    "    predicted_issue = issue_classifier.predict(combined_features)[0]\n",
    "    predicted_urgency = urgency_classifier.predict(combined_features)[0]\n",
    "\n",
    "    # 4. Entity Extraction\n",
    "    entities = extract_entities(ticket_text)\n",
    "\n",
    "    return {\n",
    "        \"predicted_issue_type\": predicted_issue,\n",
    "        \"predicted_urgency_level\": predicted_urgency,\n",
    "        \"extracted_entities\": entities\n",
    "    }\n",
    "\n",
    "# Example usage\n",
    "new_ticket = \"The beta product I ordered on 15 May 2024 is not working. This is a major issue.\"\n",
    "result = process_ticket(new_ticket)\n",
    "print(result)"
   ]
  },
  {
   "cell_type": "code",
   "execution_count": 38,
   "id": "77c0ede3",
   "metadata": {},
   "outputs": [
    {
     "name": "stderr",
     "output_type": "stream",
     "text": [
      "/Users/pradhyumnyadav/Desktop/vijayi /venv/lib/python3.11/site-packages/tqdm/auto.py:21: TqdmWarning: IProgress not found. Please update jupyter and ipywidgets. See https://ipywidgets.readthedocs.io/en/stable/user_install.html\n",
      "  from .autonotebook import tqdm as notebook_tqdm\n"
     ]
    },
    {
     "name": "stdout",
     "output_type": "stream",
     "text": [
      "* Running on local URL:  http://127.0.0.1:7860\n",
      "* To create a public link, set `share=True` in `launch()`.\n"
     ]
    },
    {
     "data": {
      "text/html": [
       "<div><iframe src=\"http://127.0.0.1:7860/\" width=\"100%\" height=\"500\" allow=\"autoplay; camera; microphone; clipboard-read; clipboard-write;\" frameborder=\"0\" allowfullscreen></iframe></div>"
      ],
      "text/plain": [
       "<IPython.core.display.HTML object>"
      ]
     },
     "metadata": {},
     "output_type": "display_data"
    },
    {
     "data": {
      "text/plain": []
     },
     "execution_count": 38,
     "metadata": {},
     "output_type": "execute_result"
    }
   ],
   "source": [
    "\n",
    "import gradio as gr\n",
    "\n",
    "def gradio_interface(ticket_text):\n",
    "    \"\"\"\n",
    "    Gradio interface function.\n",
    "    \"\"\"\n",
    "    result = process_ticket(ticket_text)\n",
    "    return result['predicted_issue_type'], result['predicted_urgency_level'], result['extracted_entities']\n",
    "\n",
    "iface = gr.Interface(\n",
    "    fn=gradio_interface,\n",
    "    inputs=gr.Textbox(lines=5, label=\"Enter Ticket Text\"),\n",
    "    outputs=[\n",
    "        gr.Textbox(label=\"Predicted Issue Type\"),\n",
    "        gr.Textbox(label=\"Predicted Urgency Level\"),\n",
    "        gr.JSON(label=\"Extracted Entities\")\n",
    "    ],\n",
    "    title=\"Customer Support Ticket Classification and Entity Extraction\",\n",
    "    description=\"Enter a customer support ticket to get predictions on the issue type, urgency, and to extract key entities.\"\n",
    ")\n",
    "\n",
    "iface.launch()"
   ]
  },
  {
   "cell_type": "code",
   "execution_count": null,
   "id": "bbc3818b",
   "metadata": {},
   "outputs": [],
   "source": []
  }
 ],
 "metadata": {
  "kernelspec": {
   "display_name": "venv",
   "language": "python",
   "name": "python3"
  },
  "language_info": {
   "codemirror_mode": {
    "name": "ipython",
    "version": 3
   },
   "file_extension": ".py",
   "mimetype": "text/x-python",
   "name": "python",
   "nbconvert_exporter": "python",
   "pygments_lexer": "ipython3",
   "version": "3.11.8"
  }
 },
 "nbformat": 4,
 "nbformat_minor": 5
}
